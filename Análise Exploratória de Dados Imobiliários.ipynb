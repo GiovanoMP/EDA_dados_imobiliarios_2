{
 "cells": [
  {
   "cell_type": "markdown",
   "metadata": {
    "cell_id": "423e10a8f03545dd9069404bb25fd21a",
    "deepnote_cell_type": "text-cell-p",
    "formattedRanges": []
   },
   "source": [
    "# Giovano Panatta"
   ]
  },
  {
   "cell_type": "markdown",
   "metadata": {
    "cell_id": "37f5a068e4574b6881e7f2158f6259e1",
    "deepnote_cell_type": "text-cell-p",
    "formattedRanges": []
   },
   "source": [
    "# Análise Exploratória de Dados Imobiliários"
   ]
  },
  {
   "cell_type": "markdown",
   "metadata": {
    "cell_id": "3f4ed30b8a574aa39038a848ce967509",
    "deepnote_cell_type": "text-cell-p",
    "formattedRanges": [
     {
      "fromCodePoint": 0,
      "marks": {
       "bold": true
      },
      "toCodePoint": 839,
      "type": "marks"
     }
    ]
   },
   "source": [
    "Neste projeto de análise exploratória de dados (EDA) do mercado imobiliário, focamos em entender as características dos lotes, incluindo a frente ('Lot Frontage') e a área ('Lot Area'), e examinamos as variáveis categóricas 'MS Zoning' e 'Lot Shape'. Utilizamos estatísticas descritivas e boxplots para investigar as propriedades contínuas, identificando a distribuição central e possíveis outliers. Para as variáveis categóricas, exploramos a distribuição dos dados usando gráficos de barras, que nos permitiram visualizar a prevalência das diferentes zonas e formatos de lotes no conjunto de dados. Essa análise nos deu uma visão geral sobre os padrões e variações dentro do mercado imobiliário, essencial para compreender as dinâmicas do setor e para apoiar decisões relacionadas a investimentos, desenvolvimento e planejamento urbano."
   ]
  },
  {
   "cell_type": "markdown",
   "metadata": {},
   "source": [
    "# Dicionário de Dados do Mercado Imobiliário\n",
    "\n",
    "| Coluna            | Descrição                                        |\n",
    "|-------------------|--------------------------------------------------|\n",
    "| Unnamed: 0        | Índice do DataFrame, não parte do conjunto original |\n",
    "| Order             | Número de ordem do imóvel                        |\n",
    "| PID               | Identificação da parcela do imóvel               |\n",
    "| MS SubClass       | O tipo de moradia envolvida na venda             |\n",
    "| MS Zoning         | Classificação geral de zoneamento                |\n",
    "| Lot Frontage      | Distância linear em pés da rua conectada ao lote |\n",
    "| Lot Area          | Tamanho do lote em pés quadrados                 |\n",
    "| Street            | Tipo de acesso rodoviário ao lote                |\n",
    "| Alley             | Tipo de acesso ao beco                           |\n",
    "| Lot Shape         | Forma geral da propriedade                       |\n",
    "| Land Contour      | Planura do lote                                  |\n",
    "| Utilities         | Tipos de utilitários disponíveis                 |\n",
    "| Lot Config        | Configuração do lote                             |\n",
    "| Land Slope        | Inclinação do lote                               |\n",
    "| Neighborhood      | Localizações físicas dentro dos limites da cidade de Ames |\n",
    "| Condition 1       | Proximidade a várias condições                   |\n",
    "| Condition 2       | Proximidade a várias condições (se mais de uma)  |\n",
    "| Bldg Type         | Tipo de habitação                                |\n",
    "| House Style       | Estilo de habitação                              |\n",
    "| Overall Qual      | Qualidade geral do material e do acabamento      |\n",
    "| Overall Cond      | Condição geral da casa                           |\n",
    "| Year Built        | Data original de construção                      |\n",
    "| Year Remod/Add    | Data de remodelação                              |\n",
    "| Roof Style        | Tipo de telhado                                  |\n",
    "| Roof Matl         | Material do telhado                              |\n",
    "| Exterior 1st      | Cobertura externa da casa                        |\n",
    "| Exterior 2nd      | Cobertura externa da casa (se mais de um material) |\n",
    "| Mas Vnr Type      | Tipo de alvenaria                                |\n",
    "| Mas Vnr Area      | Área de alvenaria em pés quadrados               |\n",
    "| Exter Qual        | Qualidade do material externo                    |\n",
    "| Exter Cond        | Condição atual do material externo               |\n",
    "| Foundation        | Tipo de fundação                                 |\n",
    "| Bsmt Qual         | Altura do porão                                  |\n",
    "| Bsmt Cond         | Condição geral do porão                          |\n",
    "| Bsmt Exposure     | Paredes do porão de nível de jardim ou saída     |\n",
    "| BsmtFin Type 1    | Qualidade da área acabada do porão               |\n",
    "| BsmtFin SF 1      | Pés quadrados acabados do Tipo 1                 |\n",
    "| BsmtFin Type 2    | Qualidade da segunda área acabada (se presente)  |\n",
    "| BsmtFin SF 2      | Pés quadrados acabados do Tipo 2                 |\n",
    "| Bsmt Unf SF       | Pés quadrados não acabados do porão              |\n",
    "| Total Bsmt SF     | Total de pés quadrados da área do porão          |\n",
    "| Heating           | Tipo de aquecimento                              |\n",
    "| Heating QC        | Qualidade e condição do aquecimento              |\n",
    "| Central Air       | Ar condicionado central                          |\n",
    "| Electrical        | Sistema elétrico                                 |\n",
    "| 1st Flr SF        | Pés quadrados do primeiro andar                  |\n",
    "| 2nd Flr SF        | Pés quadrados do segundo andar                   |\n",
    "| Low Qual Fin SF   | Pés quadrados com acabamento de baixa qualidade  |\n",
    "| Gr Liv Area       | Área de moradia acima do solo em pés quadrados   |\n",
    "| Bsmt Full Bath    | Banheiros completos no porão                     |\n",
    "| Bsmt Half Bath    | Lavabos no porão                                 |\n",
    "| Full Bath         | Banheiros completos acima do solo                |\n",
    "| Half Bath         | Lavabos acima do solo                            |\n",
    "| Bedroom AbvGr     | Quartos acima do solo                            |\n",
    "| Kitchen AbvGr     | Cozinhas acima do solo                           |\n",
    "| Kitchen Qual      | Qualidade da cozinha                             |\n",
    "| TotRms AbvGrd     | Total de quartos acima do solo ( &#8203;``【oaicite:0】``&#8203;\n"
   ]
  },
  {
   "cell_type": "code",
   "execution_count": 1,
   "metadata": {
    "cell_id": "c313b5e55a5f40ae8542d693b80a6734",
    "deepnote_cell_type": "code",
    "deepnote_to_be_reexecuted": false,
    "execution_millis": 6,
    "execution_start": 1699572508148,
    "source_hash": null
   },
   "outputs": [],
   "source": [
    "#Importando as bibliotecas\n",
    "import pandas as pd\n",
    "import matplotlib.pyplot as plt\n",
    "import seaborn as sns"
   ]
  },
  {
   "cell_type": "code",
   "execution_count": null,
   "metadata": {
    "cell_id": "ee2e0c173b934fc99d287cc200a1ad69",
    "deepnote_cell_type": "code",
    "deepnote_to_be_reexecuted": false,
    "execution_millis": 52,
    "execution_start": 1699572508497,
    "source_hash": null
   },
   "outputs": [
    {
     "data": {
      "text/plain": [
       "Order               int64\n",
       "PID                 int64\n",
       "MS SubClass         int64\n",
       "MS Zoning          object\n",
       "Lot Frontage      float64\n",
       "                   ...   \n",
       "Mo Sold             int64\n",
       "Yr Sold             int64\n",
       "Sale Type          object\n",
       "Sale Condition     object\n",
       "SalePrice           int64\n",
       "Length: 82, dtype: object"
      ]
     },
     "execution_count": 3,
     "metadata": {},
     "output_type": "execute_result"
    }
   ],
   "source": [
    "#verficando os tipos de dados\n",
    "data.dtypes"
   ]
  },
  {
   "cell_type": "markdown",
   "metadata": {
    "cell_id": "b12c5101380c4057a3f21606eae17c4f",
    "deepnote_cell_type": "text-cell-p",
    "formattedRanges": []
   },
   "source": [
    "**Obs**: como obtivemos uma grande quantidade de colunas e seus respectivos tipos de dados, vamos abordar essa questão com um dtypes junto ao value_counts() para termos uma visão mais abrangente do DF/dados:"
   ]
  },
  {
   "cell_type": "code",
   "execution_count": null,
   "metadata": {
    "cell_id": "078fc04eaf0e4a5b8317c3d999dba0d5",
    "deepnote_cell_type": "code",
    "deepnote_to_be_reexecuted": false,
    "execution_millis": 28,
    "execution_start": 1699572508522,
    "source_hash": null
   },
   "outputs": [
    {
     "name": "stdout",
     "output_type": "stream",
     "text": [
      "object     43\n",
      "int64      28\n",
      "float64    11\n",
      "dtype: int64\n"
     ]
    }
   ],
   "source": [
    "types = data.dtypes.value_counts()\n",
    "print(types)"
   ]
  },
  {
   "cell_type": "markdown",
   "metadata": {
    "cell_id": "5943eff962064a2786347d6ff6bcd291",
    "deepnote_cell_type": "text-cell-p",
    "formattedRanges": [
     {
      "fromCodePoint": 0,
      "marks": {
       "bold": true
      },
      "toCodePoint": 410,
      "type": "marks"
     }
    ]
   },
   "source": [
    "**Plano de Ação do Projeto**\n",
    "**Passo 1: Seleção de Variáveis**\n",
    "\n",
    "Primeiramente, identificaremos e selecionaremos duas variáveis numéricas contínuas e duas variáveis categóricas do conjunto de dados. Essa escolha é feita com base nos critérios que excluem as variáveis \"Order\", \"PID\", \"Year Built\", \"Year Remod/Add\" e \"SalePrice\" devido à sua natureza identificatória, temporal ou final (preço de venda) que não se encaixam no objetivo de uma análise exploratória inicial. A seleção visa entender as características físicas e de localização dos imóveis, aspectos mais permanentes e influentes no valor imobiliário do que as variáveis excluídas.\n",
    "\n",
    "**Variáveis Numéricas Contínuas**\n",
    "\n",
    "Optaremos por 'Lot Frontage' e 'Lot Area', pois representam aspectos fundamentais do lote: a frente do lote (a linha de frente do terreno que toca a rua) e a área total do lote. Ambas têm potencial para influenciar significativamente o valor e a atratividade de um imóvel no mercado.\n",
    "\n",
    "**Variáveis Categóricas**\n",
    "\n",
    "Selecionaremos 'MS Zoning', que indica a classificação geral de zoneamento do lote (como residencial, comercial), e 'Lot Shape', que descreve a forma geral da propriedade. Essas variáveis categóricas são escolhidas por oferecerem insights sobre a localização e as características físicas do terreno que podem afetar o interesse do comprador e regulamentações aplicáveis.\n",
    "\n",
    "**Passo 2: Criação de um Novo DataFrame**\n",
    "\n",
    "Com essas variáveis selecionadas, criaremos um novo DataFrame. Isso nos permitirá focar nossa análise nestes aspectos específicos, facilitando uma investigação mais detalhada e gerando insights mais claros sobre como as características físicas e de zoneamento impactam o mercado imobiliário.\n",
    "\n",
    "**Passo 3: Execução de Tarefas**\n",
    "\n",
    "A partir deste novo DataFrame, executaremos tarefas analíticas, como calcular estatísticas descritivas para as variáveis contínuas e visualizar a distribuição das variáveis categóricas. Essas ações são fundamentais para entender as dinâmicas do mercado imobiliário e para identificar padrões ou tendências que possam informar decisões de investimento ou políticas de desenvolvimento urbano.\n",
    "\n",
    "**Justificativa**\n",
    "\n",
    "A razão por trás dessa abordagem é maximizar o entendimento das características imobiliárias que têm um impacto direto no valor percebido e na desejabilidade de um imóvel. Ao concentrar-se em variáveis que descrevem diretamente o terreno e a zona em que se encontra, podemos obter insights valiosos sobre o que torna um imóvel atraente no mercado. Este foco nos permite avaliar de forma mais precisa e significativa os fatores que afetam o valor imobiliário, além de fornecer uma base sólida para análises mais aprofundadas ou modelos preditivos no futuro."
   ]
  },
  {
   "cell_type": "code",
   "execution_count": null,
   "metadata": {
    "cell_id": "f20cad17eabd46ee8baaf0b9fca03f59",
    "deepnote_cell_type": "code",
    "deepnote_to_be_reexecuted": false,
    "execution_millis": 27,
    "execution_start": 1699572508523,
    "source_hash": null
   },
   "outputs": [],
   "source": [
    "#Criando uma lista das variáveis que devem ser exlcuídas\n",
    "excluded = ['Order', 'PID', 'Year Built', 'Year Remod/Add', 'SalePrice']\n",
    "\n",
    "#Atribuindo ao data_2 o resultado de drop do dataframe original\n",
    "data_2 = data.drop(columns= excluded)"
   ]
  },
  {
   "cell_type": "markdown",
   "metadata": {
    "cell_id": "02730d714c664d9084284df3dca80075",
    "deepnote_cell_type": "text-cell-p",
    "formattedRanges": []
   },
   "source": []
  },
  {
   "cell_type": "code",
   "execution_count": null,
   "metadata": {
    "cell_id": "4ff648d7f27845108130216185c205c6",
    "deepnote_cell_type": "code",
    "deepnote_to_be_reexecuted": false,
    "execution_millis": 149,
    "execution_start": 1699572508538,
    "source_hash": null
   },
   "outputs": [
    {
     "data": {
      "text/plain": [
       "(   Lot Frontage  Lot Area MS Zoning Lot Shape\n",
       " 0         141.0     31770        RL       IR1\n",
       " 1          80.0     11622        RH       Reg\n",
       " 2          81.0     14267        RL       IR1\n",
       " 3          93.0     11160        RL       Reg\n",
       " 4          74.0     13830        RL       IR1,\n",
       " ['Lot Frontage', 'Lot Area'],\n",
       " ['MS Zoning', 'Lot Shape'])"
      ]
     },
     "execution_count": 6,
     "metadata": {},
     "output_type": "execute_result"
    }
   ],
   "source": [
    "#Utilizando o metodo select_detypes \n",
    "# Criando uma lista com columns.tolist() das colunas numéricas e categóricas a partir de 'data_2'\n",
    "numerical_cols = data_2.select_dtypes(include=['float64', 'int64']).columns.tolist()\n",
    "categorical_cols = data_2.select_dtypes(include=['object']).columns.tolist()\n",
    "\n",
    "# Inicializando listas vazias para as variáveis numéricas contínuas e categóricas\n",
    "numerical_continuous = []\n",
    "categorical_filtered = []\n",
    "\n",
    "# Usando um laço for para selecionar duas variáveis numéricas contínuas\n",
    "for col in numerical_cols:\n",
    "    if data_2[col].nunique() > 20: #Se a coluna iterada tiver mais de 20 valores unicos / indica valors continuos\n",
    "        numerical_continuous.append(col) # irá apendar na variável numerical_continuos ao final da lista\n",
    "    if len(numerical_continuous) == 2: # se houver mais de duas colunas em numerical_continuos...\n",
    "        break #o laço for é interrompido\n",
    "\n",
    "# Usando outro laço for para selecionar duas variáveis categóricas com pelo menos 3 valores únicos\n",
    "for col in categorical_cols:\n",
    "    if data_2[col].nunique() >= 3: # se em data_2 houver nomes equivalentes a [col] e com valores unicos > 3\n",
    "        categorical_filtered.append(col)\n",
    "    if len(categorical_filtered) == 2:\n",
    "        break\n",
    "\n",
    "# Criando o novo dataframe apenas com as variáveis escolhidas\n",
    "selected_variables = numerical_continuous + categorical_filtered #lista de referências obtidas pelo loop for\n",
    "final_data = data_2[selected_variables] #novo dataframe criado a a partir de data_2 com as variáveis apropriadas\n",
    "\n",
    "final_data.head() , numerical_continuous, categorical_filtered\n",
    "\n",
    "\n"
   ]
  },
  {
   "cell_type": "code",
   "execution_count": null,
   "metadata": {
    "cell_id": "749b9286c7a6492e8b115c2934be3696",
    "deepnote_cell_type": "code",
    "deepnote_to_be_reexecuted": false,
    "execution_millis": 170,
    "execution_start": 1699572508557,
    "source_hash": null
   },
   "outputs": [
    {
     "data": {
      "text/plain": [
       "Lot Frontage    float64\n",
       "Lot Area          int64\n",
       "MS Zoning        object\n",
       "Lot Shape        object\n",
       "dtype: object"
      ]
     },
     "execution_count": 7,
     "metadata": {},
     "output_type": "execute_result"
    }
   ],
   "source": [
    "#verificando as 4 variáveis finais e seus tipos de dados em final_data\n",
    "\n",
    "final_data.dtypes"
   ]
  },
  {
   "cell_type": "markdown",
   "metadata": {
    "cell_id": "5b38a60c20fb46a5a2b42cd68975fada",
    "deepnote_cell_type": "text-cell-p",
    "formattedRanges": []
   },
   "source": [
    "**Obs:** No caso específico de Lot Area (código acima), embora os valores sejam inteiros, eles representam uma medição que, em teoria, poderia ser qualquer valor positivo. Além disso, a área do lote é tipicamente uma medida com uma grande quantidade de valores possíveis, o que justifica seu tratamento como uma variável contínua em análises estatísticas e modelagem."
   ]
  },
  {
   "cell_type": "markdown",
   "metadata": {
    "cell_id": "d8633e2729094121b0e9e34ed5086438",
    "deepnote_cell_type": "text-cell-p",
    "formattedRanges": [
     {
      "fromCodePoint": 0,
      "marks": {
       "bold": true
      },
      "toCodePoint": 198,
      "type": "marks"
     }
    ]
   },
   "source": [
    "Agora, calcularemos as médias e medianas para 'Lot Frontage' e 'Lot Area' para avaliar a distribuição desses dados. Comparando essas métricas, identificaremos se a presença de outliers é evidente. A proximidade entre média e mediana indica uma distribuição equilibrada, enquanto uma grande discrepância sugere outliers que puxam a média para longe da mediana. Este passo é crucial para entender como as características físicas dos lotes variam e como isso pode impactar nossa análise do mercado imobiliário."
   ]
  },
  {
   "cell_type": "code",
   "execution_count": null,
   "metadata": {
    "cell_id": "64aee92a44454598a1932068b5f2569b",
    "deepnote_cell_type": "code",
    "deepnote_to_be_reexecuted": false,
    "execution_millis": 166,
    "execution_start": 1699572508569,
    "source_hash": null
   },
   "outputs": [
    {
     "data": {
      "text/plain": [
       "{'Lot Frontage': {'mean': 69.22459016393442, 'median': 68.0},\n",
       " 'Lot Area': {'mean': 10147.921843003413, 'median': 9436.5}}"
      ]
     },
     "execution_count": 8,
     "metadata": {},
     "output_type": "execute_result"
    }
   ],
   "source": [
    "continuos_stats = {\n",
    "    'Lot Frontage':{\n",
    "    'mean': final_data['Lot Frontage'].mean(),\n",
    "    'median':final_data['Lot Frontage'].median()\n",
    "},\n",
    "    'Lot Area': {\n",
    "        'mean': final_data['Lot Area'].mean(),\n",
    "        'median': final_data['Lot Area'].median()\n",
    "    }\n",
    "}\n",
    "\n",
    "continuos_stats"
   ]
  },
  {
   "cell_type": "markdown",
   "metadata": {
    "cell_id": "9edff5450d1c4e6aaf2e1e02f01ef20c",
    "deepnote_cell_type": "text-cell-p",
    "formattedRanges": [
     {
      "fromCodePoint": 0,
      "marks": {
       "bold": true
      },
      "toCodePoint": 14,
      "type": "marks"
     }
    ]
   },
   "source": [
    "Considerações:"
   ]
  },
  {
   "cell_type": "markdown",
   "metadata": {
    "cell_id": "6c9e3ee5ad1b4b5aac67fcd0244dd59c",
    "deepnote_cell_type": "text-cell-bullet",
    "formattedRanges": []
   },
   "source": [
    "- Média (ou média aritmética): A média é a soma de todos os valores dividida pelo número de valores. É uma medida de tendência central que pode ser afetada por valores extremamente altos ou baixos (outliers)."
   ]
  },
  {
   "cell_type": "markdown",
   "metadata": {
    "cell_id": "3290e943f66b4446b28a65c06c1a6507",
    "deepnote_cell_type": "text-cell-bullet",
    "formattedRanges": []
   },
   "source": [
    "- Mediana: A mediana é o valor que divide os dados ao meio quando ordenados, ou seja, metade dos dados está abaixo da mediana e a outra metade está acima. A mediana é menos sensível a outliers do que a média, pois não é afetada pelo valor real dos extremos."
   ]
  },
  {
   "cell_type": "markdown",
   "metadata": {
    "cell_id": "7c83d1e994d7435caac89c043d4388f7",
    "deepnote_cell_type": "text-cell-p",
    "formattedRanges": []
   },
   "source": [
    "\n",
    "Lot Frontage:"
   ]
  },
  {
   "cell_type": "markdown",
   "metadata": {
    "cell_id": "93b3737d46c649f8a6a5c5ece3c707d9",
    "deepnote_cell_type": "text-cell-p",
    "formattedRanges": []
   },
   "source": [
    "A média e a mediana da metragem frontal dos lotes são muito próximas, o que significa que a maioria dos lotes tem uma metragem frontal semelhante. Isso sugere que não há uma grande diferença entre os tamanhos dos lotes, ou que os lotes muito grandes ou muito pequenos não são muito comuns."
   ]
  },
  {
   "cell_type": "markdown",
   "metadata": {
    "cell_id": "e92b69fac8434122875697db8e235fcc",
    "deepnote_cell_type": "text-cell-p",
    "formattedRanges": []
   },
   "source": [
    "\n",
    "Lot Area:"
   ]
  },
  {
   "cell_type": "markdown",
   "metadata": {
    "cell_id": "b309f42051c64a3aad0f1ca06f5941ae",
    "deepnote_cell_type": "text-cell-p",
    "formattedRanges": []
   },
   "source": [
    "A área dos lotes é uma medida do tamanho total do lote. A média da área dos lotes é maior que a mediana, o que significa que há alguns lotes que são muito maiores do que a maioria. Isso sugere que há uma distribuição assimétrica dos dados, com uma cauda mais longa à direita."
   ]
  },
  {
   "cell_type": "markdown",
   "metadata": {
    "cell_id": "917acb0f66544371ad77ee2b3af128dc",
    "deepnote_cell_type": "text-cell-p",
    "formattedRanges": [
     {
      "fromCodePoint": 0,
      "marks": {
       "bold": true
      },
      "toCodePoint": 150,
      "type": "marks"
     }
    ]
   },
   "source": [
    "Agora, utilizaremos boxplots para identificar a ocorrência ou não de outliers nas mesmas duas variáveis contínuas escolhidas. Justifique suas respostas."
   ]
  },
  {
   "cell_type": "code",
   "execution_count": null,
   "metadata": {
    "cell_id": "e04bd0fcc1f24c2195d9dd8c6c122fbf",
    "deepnote_cell_type": "code",
    "deepnote_to_be_reexecuted": false,
    "execution_millis": 510,
    "execution_start": 1699572509820,
    "source_hash": null
   },
   "outputs": [
    {
     "data": {
      "image/png": "[encoded data removed]",
      "text/plain": [
       "<Figure size 1200x600 with 2 Axes>"
      ]
     },
     "metadata": {
      "image/png": {
       "height": 584,
       "width": 1183
      }
     },
     "output_type": "display_data"
    }
   ],
   "source": [
    "#Estilo dos gráficos\n",
    "sns.set(style ='whitegrid')\n",
    "\n",
    "#Criando boxplots\n",
    "plt.figure(figsize=(12, 6))\n",
    "\n",
    "#Boxpplot para Lot Frontage\n",
    "plt.subplot(1, 2, 1) #1 linha, 2 colunas, utilização da coluna 1\n",
    "sns.boxplot(y=final_data['Lot Frontage']) #plotar no eyxo y - vertical\n",
    "plt.title(\"Boxplot de Lot Frontage\")\n",
    "\n",
    "# Boxplot para 'Lot Area'\n",
    "plt.subplot(1, 2, 2) #1 linha, 2 colunas, utilização da coluna 2\n",
    "sns.boxplot(y=final_data['Lot Area']) # plotar no eixo y - vertical\n",
    "plt.title('Boxplot de Lot Area')\n",
    "\n",
    "plt.tight_layout()\n",
    "plt.show()"
   ]
  },
  {
   "cell_type": "markdown",
   "metadata": {
    "cell_id": "8bb3214914a44e09890df831a89b9aaa",
    "deepnote_cell_type": "text-cell-p",
    "formattedRanges": [
     {
      "fromCodePoint": 0,
      "marks": {
       "bold": true
      },
      "toCodePoint": 2,
      "type": "marks"
     }
    ]
   },
   "source": [
    "\n"
   ]
  },
  {
   "cell_type": "markdown",
   "metadata": {},
   "source": [
    "**Conclusões:**"
   ]
  },
  {
   "cell_type": "markdown",
   "metadata": {
    "cell_id": "813738bc857d4630bfd2f089e6d374bf",
    "deepnote_cell_type": "text-cell-p",
    "formattedRanges": [
     {
      "fromCodePoint": 0,
      "marks": {
       "bold": true
      },
      "toCodePoint": 14,
      "type": "marks"
     }
    ]
   },
   "source": [
    "* Lot Frontage: A maioria dos lotes tem uma metragem frontal semelhante, com uma distribuição relativamente simétrica. Há alguns outliers, mas eles não são excessivamente extremos.\n",
    "\n"
   ]
  },
  {
   "cell_type": "markdown",
   "metadata": {
    "cell_id": "69f8a07bddc6484e8134b6b2b717fa1c",
    "deepnote_cell_type": "text-cell-p",
    "formattedRanges": [
     {
      "fromCodePoint": 0,
      "marks": {
       "bold": true
      },
      "toCodePoint": 9,
      "type": "marks"
     }
    ]
   },
   "source": [
    "* Lote Area: A área dos lotes é mais variada, com uma distribuição assimétrica positiva.\n",
    "Há muitos lotes que são significativamente maiores do que o tamanho médio.\n",
    "A média não é uma representação precisa do tamanho típico dos lotes."
   ]
  },
  {
   "cell_type": "markdown",
   "metadata": {
    "cell_id": "9f65acbf386a4187b1f03b4b4f4aaa8b",
    "deepnote_cell_type": "text-cell-p",
    "formattedRanges": [
     {
      "fromCodePoint": 2,
      "marks": {
       "bold": true
      },
      "toCodePoint": 172,
      "type": "marks"
     }
    ]
   },
   "source": [
    "**Conclusão:**\n",
    "A metragem frontal dos lotes é relativamente uniforme, com apenas alguns outliers. Já a área dos lotes é mais variada, com muitos outliers que distorcem a média."
   ]
  },
  {
   "cell_type": "markdown",
   "metadata": {
    "cell_id": "2d3a069d294547ac9ffb1fbdf628dd5e",
    "deepnote_cell_type": "text-cell-p",
    "formattedRanges": [
     {
      "fromCodePoint": 0,
      "marks": {
       "bold": true
      },
      "toCodePoint": 0,
      "type": "marks"
     }
    ]
   },
   "source": []
  },
  {
   "cell_type": "markdown",
   "metadata": {
    "cell_id": "b3ab7d8a03934af58cdbd6787835ac18",
    "deepnote_cell_type": "text-cell-p",
    "formattedRanges": [
     {
      "fromCodePoint": 0,
      "marks": {
       "bold": true
      },
      "toCodePoint": 126,
      "type": "marks"
     }
    ]
   },
   "source": [
    "**Agora, utilizaremos gráficos de barras para apresentar as estruturas dos dados presentes em todas as variáveis categóricas escolhidas.**\n"
   ]
  },
  {
   "cell_type": "code",
   "execution_count": null,
   "metadata": {
    "cell_id": "18fa6ecff554433cb58bd5c77c9d4c79",
    "deepnote_cell_type": "code",
    "deepnote_to_be_reexecuted": false,
    "execution_millis": 536,
    "execution_start": 1699572510348,
    "source_hash": null
   },
   "outputs": [
    {
     "data": {
      "image/png": "[encoded data removed]",
      "text/plain": [
       "<Figure size 1000x600 with 1 Axes>"
      ]
     },
     "metadata": {
      "image/png": {
       "height": 593,
       "width": 870
      }
     },
     "output_type": "display_data"
    },
    {
     "data": {
      "image/png": "[encoded data removed]",
      "text/plain": [
       "<Figure size 1000x600 with 1 Axes>"
      ]
     },
     "metadata": {
      "image/png": {
       "height": 570,
       "width": 870
      }
     },
     "output_type": "display_data"
    }
   ],
   "source": [
    "# Selecionando as variáveis categóricas do 'final_data'\n",
    "#Utilizamos esse código para automatizar, mas dado o pequeno conjunto de colunas categórica, poderia ser manual\n",
    "categorical_vars = final_data.select_dtypes(include=['object']).columns.tolist()\n",
    "\n",
    "# Agora criaremos um gráfico de barras para cada variável categórica\n",
    "for var in categorical_vars:\n",
    "    plt.figure(figsize=(10, 6))  # Definindo o tamanho da figura para cada gráfico\n",
    "    order = final_data[var].value_counts().index  # Ordenando as barras pela contagem, index = ordem decrescente\n",
    "    sns.countplot(x=var, data=final_data, order=order)\n",
    "     #A ordem (order) é decresencente conforme os comandas da variável em order anterior\n",
    "    plt.title(f'Distribuição de {var}')\n",
    "    plt.xticks(rotation=90)  # Rotação dos labels no eixo x\n",
    "    plt.show()  # Exibindo cada gráfico individualmente\n",
    "\n"
   ]
  },
  {
   "cell_type": "markdown",
   "metadata": {
    "cell_id": "22e853b0e927484d99b139c852abbbe2",
    "deepnote_cell_type": "text-cell-p",
    "formattedRanges": [
     {
      "fromCodePoint": 0,
      "marks": {
       "bold": true
      },
      "toCodePoint": 282,
      "type": "marks"
     }
    ]
   },
   "source": [
    "Para nosso próximo objetivo no projeto, vamos aprofundar nossa análise das variáveis contínuas 'Lot Frontage' e 'Lot Area', utilizando os boxplots como ferramentas chave. Extrairemos e apresentaremos informações detalhadas para cada variável, incluindo:\n",
    "\n",
    "Mediana: Indicador central que divide o conjunto de dados ao meio.\n",
    "Valor Máximo e Mínimo para 50% das Observações: Os limites do primeiro e terceiro quartis, que encapsulam a maioria dos dados.\n",
    "Valor Máximo que Não é Considerado Outlier: O limite superior para dados regulares, além do qual os valores são tratados como outliers.\n",
    "Valor Mínimo que Não é Considerado Outlier: O limite inferior para a regularidade dos dados.\n",
    "Esses dados serão essenciais para entender a distribuição e a variabilidade de 'Lot Frontage' e 'Lot Area', permitindo-nos identificar não apenas os padrões comuns, mas também os pontos extremos que podem influenciar tanto a análise quanto futuras decisões de investimento imobiliário. Esse objetivo visa oferecer uma compreensão mais nuançada e completa das características do mercado imobiliário que estamos estudando."
   ]
  },
  {
   "cell_type": "code",
   "execution_count": null,
   "metadata": {
    "cell_id": "a69e11a4291b436494c5d837394cb614",
    "deepnote_cell_type": "code",
    "deepnote_to_be_reexecuted": false,
    "execution_millis": 25,
    "execution_start": 1699572510901,
    "source_hash": null
   },
   "outputs": [
    {
     "name": "stdout",
     "output_type": "stream",
     "text": [
      "Análise dos Boxplots:\n",
      "Medianas:\n",
      "Lot Frontage      68.0\n",
      "Lot Area        9436.5\n",
      "Name: 50%, dtype: float64\n",
      "Máximo para 50% das observações (Q3):\n",
      "Lot Frontage       80.00\n",
      "Lot Area        11555.25\n",
      "Name: 75%, dtype: float64\n",
      "Mínimo para 50% das observações (Q1):\n",
      "Lot Frontage      58.00\n",
      "Lot Area        7440.25\n",
      "Name: 25%, dtype: float64\n",
      "Valor máximo não considerado um outlier (Whisker Superior):\n",
      "Lot Frontage      113.00\n",
      "Lot Area        17727.75\n",
      "dtype: float64\n",
      "Valor mínimo não considerado um outlier (Whisker Inferior):\n",
      "Lot Frontage      25.0\n",
      "Lot Area        1300.0\n",
      "dtype: float64\n"
     ]
    }
   ],
   "source": [
    "# Obtendo estatísticas descritivas básicas com describe()\n",
    "estatisticas_descritivas = final_data[['Lot Frontage', 'Lot Area']].describe()\n",
    "\n",
    "# Calculando o Intervalo Interquartil (IQR)\n",
    "iqr = estatisticas_descritivas.loc['75%'] - estatisticas_descritivas.loc['25%']\n",
    "\n",
    "# Determinando os whiskers (valores máximos e mínimos que não são considerados outliers)\n",
    "whisker_superior = estatisticas_descritivas.loc['75%'] + 1.5 * iqr # regra comum para identificar outliers.\n",
    "whisker_inferior = estatisticas_descritivas.loc['25%'] - 1.5 * iqr# regra comum para identificar outliers.\n",
    "\n",
    "#A função clip() é usada para garantir que os whiskers não excedam os valores máximos e mínimos reais do conjunto\n",
    "whisker_superior = whisker_superior.clip(upper=final_data[['Lot Frontage', 'Lot Area']].max())\n",
    "whisker_inferior = whisker_inferior.clip(lower=final_data[['Lot Frontage', 'Lot Area']].min())\n",
    "\n",
    "#Imprimindo as informações:\n",
    "print(\"Análise dos Boxplots:\")\n",
    "print(\"Medianas:\")\n",
    "print(estatisticas_descritivas.loc['50%'])\n",
    "print(\"Máximo para 50% das observações (Q3):\")\n",
    "print(estatisticas_descritivas.loc['75%'])\n",
    "print(\"Mínimo para 50% das observações (Q1):\")\n",
    "print(estatisticas_descritivas.loc['25%'])\n",
    "print(\"Valor máximo não considerado um outlier (Whisker Superior):\")\n",
    "print(whisker_superior)\n",
    "print(\"Valor mínimo não considerado um outlier (Whisker Inferior):\")\n",
    "print(whisker_inferior)\n"
   ]
  }
 ],
 "metadata": {
  "deepnote_execution_queue": [],
  "deepnote_notebook_id": "33070a5ff9744bff914bf65f2d399a4d",
  "deepnote_persisted_session": {
   "createdAt": "2023-11-09T23:46:44.677Z"
  },
  "kernelspec": {
   "display_name": "Python 3 (ipykernel)",
   "language": "python",
   "name": "python3"
  },
  "language_info": {
   "codemirror_mode": {
    "name": "ipython",
    "version": 3
   },
   "file_extension": ".py",
   "mimetype": "text/x-python",
   "name": "python",
   "nbconvert_exporter": "python",
   "pygments_lexer": "ipython3",
   "version": "3.10.9"
  }
 },
 "nbformat": 4,
 "nbformat_minor": 1
}
